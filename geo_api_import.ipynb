{
 "cells": [
  {
   "cell_type": "markdown",
   "id": "783f207b",
   "metadata": {},
   "source": [
    "### IMPORTS"
   ]
  },
  {
   "cell_type": "code",
   "execution_count": 1,
   "id": "3b328fad",
   "metadata": {},
   "outputs": [],
   "source": [
    "# BASICS\n",
    "import pandas as pd\n",
    "from tqdm import tqdm\n",
    "\n",
    "# GEOPANDAS\n",
    "import geopandas\n",
    "from geopandas import GeoSeries\n",
    "from shapely.geometry import Polygon\n",
    "import requests"
   ]
  },
  {
   "cell_type": "markdown",
   "id": "5f245df8",
   "metadata": {},
   "source": [
    "### RECUPERATION REGIONS ET DEPARTEMENTS"
   ]
  },
  {
   "cell_type": "code",
   "execution_count": 2,
   "id": "016b8a6b",
   "metadata": {},
   "outputs": [],
   "source": [
    "# REGION AVEC NOM ET CODE\n",
    "url_reg = 'https://geo.api.gouv.fr/regions'\n",
    "r_reg = requests.get(url_reg)\n",
    "data_reg = r_reg.json()\n",
    "df_reg = pd.DataFrame(data_reg)\n",
    "\n",
    "# DEPARTEMENT AVEC NOM, CODE ET CODE REGION\n",
    "url_dep = 'https://geo.api.gouv.fr/departements'\n",
    "r_dep = requests.get(url_dep)\n",
    "data_dep = r_dep.json()\n",
    "df_dep = pd.DataFrame(data_dep)"
   ]
  },
  {
   "cell_type": "markdown",
   "id": "1f99c0a6",
   "metadata": {},
   "source": [
    "### RECUPERATION DES DONNES PAR COMMUNE"
   ]
  },
  {
   "cell_type": "code",
   "execution_count": 3,
   "id": "733c2130",
   "metadata": {},
   "outputs": [
    {
     "name": "stderr",
     "output_type": "stream",
     "text": [
      "GEO_API: 100%|███████████████████████████████████████████████████████████████████████| 101/101 [01:20<00:00,  1.26it/s]\n"
     ]
    },
    {
     "name": "stdout",
     "output_type": "stream",
     "text": [
      "Doublons supprimés\n",
      "Arrondissments Paris, Marseille et Lyon remplacés\n"
     ]
    }
   ],
   "source": [
    "# INSTANCE DE GDF\n",
    "gdf = geopandas.GeoDataFrame()\n",
    "\n",
    "# COMMUNE POUR CHAQUE DEPARTEMENT VIA GEO API\n",
    "for dep in tqdm(list(df_dep.code.unique()), desc= \"GEO_API\"):\n",
    "    url_com = 'https://geo.api.gouv.fr/departements/'+ dep +'/communes?fields=code,nom,codeEpci,epci,codeDepartement,departement,codeRegion,region,mairie,population,surface,contour&format=geojson&geometry=contour'\n",
    "    r_com = requests.get(url_com)\n",
    "    data_com = r_com.json()\n",
    "    gdf_temp = geopandas.GeoDataFrame.from_features(data_com['features'])\n",
    "    gdf = pd.concat([gdf_temp, gdf], ignore_index=True)\n",
    "    \n",
    "# SUPPRESSION DES DOUBLONS\n",
    "gdf = gdf.drop_duplicates(subset=['geometry', 'code', 'nom', 'codeEpci', 'codeDepartement', 'codeRegion','population', 'surface'])\n",
    "print(\"Doublons supprimés\")\n",
    "\n",
    "# CREATION D'EPCI IMAGINAIRE POUR LES COMMUNES ORPHELINES (CODE INSEE)\n",
    "gdf['codeEpci'] = gdf['codeEpci'].fillna(value = gdf[\"code\"])\n",
    "\n",
    "# ---\n",
    "\n",
    "# ARRONDISSEMENT VIA GEO API\n",
    "url_arr = 'https://geo.api.gouv.fr/communes?type=arrondissement-municipal&fields=code,nom,codeEpci,epci,codeDepartement,departement,codeRegion,region,mairie,population,surface,contour&format=geojson&geometry=contour'\n",
    "r_arr = requests.get(url_arr)\n",
    "data_arr = r_arr.json()\n",
    "gdf_arr = geopandas.GeoDataFrame.from_features(data_arr['features'])\n",
    "\n",
    "# CREATION D'EPCI IMAGINAIRE (CODE DEPARTEMENT)\n",
    "gdf_arr['codeEpci'] = gdf_arr['codeDepartement']\n",
    "\n",
    "# SUPPRESSION DES VILLES DE PARIS MARSEILLE ET LYON ET REMPLACEMENT AVEC LEUR ARRONDISSEMENT\n",
    "gdf = gdf[~gdf.nom.isin([\"Paris\",\"Marseille\",\"Lyon\"])]\n",
    "gdf = pd.concat([gdf,gdf_arr], ignore_index=True)\n",
    "print(\"Arrondissments Paris, Marseille et Lyon remplacés\")"
   ]
  },
  {
   "cell_type": "markdown",
   "id": "89bbb5f2",
   "metadata": {},
   "source": [
    "### CARTE EPCI"
   ]
  },
  {
   "cell_type": "code",
   "execution_count": 4,
   "id": "446dc6ab",
   "metadata": {},
   "outputs": [],
   "source": [
    "# Fonctions pour rassembler par départements\n",
    "def to_epc(gdf,string):\n",
    "    polygons = gdf.loc[(gdf['codeEpci'] == string)]\n",
    "    polygons = polygons['geometry'].unary_union\n",
    "    return polygons\n",
    "\n",
    "# Création des listes des départements\n",
    "epcList = list(gdf.codeEpci.unique())\n",
    "\n",
    "# Instances\n",
    "shapeList = []\n",
    "reg_for_epciList = []\n",
    "dep_for_epciList = []\n",
    "\n",
    "# Création des formes\n",
    "for epc in epcList:\n",
    "    # Forme d'un département\n",
    "    shape = to_epc(gdf,epc)\n",
    "    shapeList.append(shape)\n",
    "    \n",
    "    # Ajout des régions et département\n",
    "    dep_for_epciList.append(list(gdf[gdf['codeEpci'] == epc].codeDepartement)[0])\n",
    "    reg_for_epciList.append(list(gdf[gdf['codeEpci'] == epc].codeRegion)[0])\n",
    "\n",
    "# Création du GeoDataFrame\n",
    "data_epc = {'codeRegion':reg_for_epciList, 'codeDepartement': dep_for_epciList, 'codeEpci': epcList, 'geometry': shapeList}\n",
    "gdf_epc = geopandas.GeoDataFrame(data_epc)\n",
    "\n",
    "# Ajout des données de populations et surface\n",
    "gdf_epc_data = gdf.groupby([\"codeEpci\"]).agg({\"population\":\"sum\",\"surface\":\"sum\"}).reset_index()\n",
    "gdf_epc = gdf_epc.merge(gdf_epc_data, on='codeEpci')"
   ]
  },
  {
   "cell_type": "markdown",
   "id": "06ec3ca9",
   "metadata": {},
   "source": [
    "### CARTE DEPARTEMENT"
   ]
  },
  {
   "cell_type": "code",
   "execution_count": 6,
   "id": "a094e754",
   "metadata": {},
   "outputs": [],
   "source": [
    "# Fonctions pour rassembler par départements\n",
    "def to_dep(gdf,string):\n",
    "    polygons = gdf.loc[(gdf['codeDepartement'] == string)]\n",
    "    polygons = polygons['geometry'].unary_union\n",
    "    return polygons\n",
    "\n",
    "# Création des listes des départements\n",
    "depList = list(gdf.codeDepartement.unique())\n",
    "\n",
    "# Instances\n",
    "shapeList = []\n",
    "reg_for_depList = []\n",
    "\n",
    "# Création des formes\n",
    "for dep in depList:\n",
    "    # Forme d'un département\n",
    "    shape = to_dep(gdf,dep)\n",
    "    shapeList.append(shape)\n",
    "    \n",
    "    # Ajout des régions par département\n",
    "    reg_for_depList.append(list(gdf[gdf['codeDepartement'] == dep].codeRegion)[0])\n",
    "\n",
    "# Création du GeoDataFrame\n",
    "data_dep = {'codeRegion':reg_for_depList, 'codeDepartement': depList, 'geometry': shapeList}\n",
    "gdf_dep = geopandas.GeoDataFrame(data_dep)\n",
    "\n",
    "# Ajout des données de populations et surface\n",
    "gdf_dep_data = gdf.groupby([\"codeDepartement\"]).agg({\"population\":\"sum\",\"surface\":\"sum\"}).reset_index()\n",
    "gdf_dep = gdf_dep.merge(gdf_dep_data, on='codeDepartement')"
   ]
  },
  {
   "cell_type": "markdown",
   "id": "bc54171f",
   "metadata": {},
   "source": [
    "### CARTE REGIONS"
   ]
  },
  {
   "cell_type": "code",
   "execution_count": 7,
   "id": "344081d5",
   "metadata": {},
   "outputs": [],
   "source": [
    "def to_reg(gdf,string):\n",
    "    polygons = gdf.loc[(gdf['codeRegion'] == string)]\n",
    "    polygons = polygons['geometry'].unary_union\n",
    "    return polygons\n",
    "\n",
    "# Création des listes des régions existantes\n",
    "regList = list(gdf.codeRegion.unique())\n",
    "\n",
    "# Instances\n",
    "shapeList = []\n",
    "\n",
    "# Création des formes\n",
    "for reg in regList:\n",
    "    # Forme d'un département\n",
    "    shape = to_reg(gdf,reg)\n",
    "    shapeList.append(shape)\n",
    "    \n",
    "# Création du GeoDataFrame\n",
    "data = {'codeRegion': regList, 'geometry': shapeList}\n",
    "gdf_reg = geopandas.GeoDataFrame(data)\n",
    "\n",
    "# Ajout des données de populations et surface\n",
    "gdf_reg_data = gdf.groupby([\"codeRegion\"]).agg({\"population\":\"sum\",\"surface\":\"sum\"}).reset_index()\n",
    "gdf_reg = gdf_reg.merge(gdf_reg_data, on='codeRegion')"
   ]
  },
  {
   "cell_type": "markdown",
   "id": "64958101",
   "metadata": {},
   "source": [
    "### RESULTAT"
   ]
  },
  {
   "cell_type": "code",
   "execution_count": 8,
   "id": "fa6a3014",
   "metadata": {},
   "outputs": [
    {
     "data": {
      "text/html": [
       "<div>\n",
       "<style scoped>\n",
       "    .dataframe tbody tr th:only-of-type {\n",
       "        vertical-align: middle;\n",
       "    }\n",
       "\n",
       "    .dataframe tbody tr th {\n",
       "        vertical-align: top;\n",
       "    }\n",
       "\n",
       "    .dataframe thead th {\n",
       "        text-align: right;\n",
       "    }\n",
       "</style>\n",
       "<table border=\"1\" class=\"dataframe\">\n",
       "  <thead>\n",
       "    <tr style=\"text-align: right;\">\n",
       "      <th></th>\n",
       "      <th>geometry</th>\n",
       "      <th>code</th>\n",
       "      <th>nom</th>\n",
       "      <th>codeEpci</th>\n",
       "      <th>codeDepartement</th>\n",
       "      <th>codeRegion</th>\n",
       "      <th>population</th>\n",
       "      <th>surface</th>\n",
       "      <th>epci</th>\n",
       "      <th>departement</th>\n",
       "      <th>region</th>\n",
       "    </tr>\n",
       "  </thead>\n",
       "  <tbody>\n",
       "    <tr>\n",
       "      <th>0</th>\n",
       "      <td>POLYGON ((45.09578 -12.71593, 45.09512 -12.732...</td>\n",
       "      <td>97601</td>\n",
       "      <td>Acoua</td>\n",
       "      <td>200060465</td>\n",
       "      <td>976</td>\n",
       "      <td>06</td>\n",
       "      <td>5192</td>\n",
       "      <td>1254.11</td>\n",
       "      <td>{'code': '200060465', 'nom': 'CA du Grand Nord...</td>\n",
       "      <td>{'code': '976', 'nom': 'Mayotte'}</td>\n",
       "      <td>{'code': '06', 'nom': 'Mayotte'}</td>\n",
       "    </tr>\n",
       "    <tr>\n",
       "      <th>1</th>\n",
       "      <td>MULTIPOLYGON (((45.12781 -12.72325, 45.12781 -...</td>\n",
       "      <td>97602</td>\n",
       "      <td>Bandraboua</td>\n",
       "      <td>200060465</td>\n",
       "      <td>976</td>\n",
       "      <td>06</td>\n",
       "      <td>13989</td>\n",
       "      <td>3170.91</td>\n",
       "      <td>{'code': '200060465', 'nom': 'CA du Grand Nord...</td>\n",
       "      <td>{'code': '976', 'nom': 'Mayotte'}</td>\n",
       "      <td>{'code': '06', 'nom': 'Mayotte'}</td>\n",
       "    </tr>\n",
       "  </tbody>\n",
       "</table>\n",
       "</div>"
      ],
      "text/plain": [
       "                                            geometry   code         nom  \\\n",
       "0  POLYGON ((45.09578 -12.71593, 45.09512 -12.732...  97601       Acoua   \n",
       "1  MULTIPOLYGON (((45.12781 -12.72325, 45.12781 -...  97602  Bandraboua   \n",
       "\n",
       "    codeEpci codeDepartement codeRegion  population  surface  \\\n",
       "0  200060465             976         06        5192  1254.11   \n",
       "1  200060465             976         06       13989  3170.91   \n",
       "\n",
       "                                                epci  \\\n",
       "0  {'code': '200060465', 'nom': 'CA du Grand Nord...   \n",
       "1  {'code': '200060465', 'nom': 'CA du Grand Nord...   \n",
       "\n",
       "                         departement                            region  \n",
       "0  {'code': '976', 'nom': 'Mayotte'}  {'code': '06', 'nom': 'Mayotte'}  \n",
       "1  {'code': '976', 'nom': 'Mayotte'}  {'code': '06', 'nom': 'Mayotte'}  "
      ]
     },
     "execution_count": 8,
     "metadata": {},
     "output_type": "execute_result"
    }
   ],
   "source": [
    "gdf.head(2)"
   ]
  },
  {
   "cell_type": "markdown",
   "id": "3b579b48",
   "metadata": {},
   "source": [
    "### EXPORTS"
   ]
  },
  {
   "cell_type": "code",
   "execution_count": 9,
   "id": "259eb243",
   "metadata": {},
   "outputs": [
    {
     "name": "stdout",
     "output_type": "stream",
     "text": [
      "Exports :\n",
      "geo_api_com.geojson exporté\n",
      "geo_api_epc.geojson exporté\n",
      "geo_api_dep.geojson exporté\n",
      "geo_api_reg.geojson exporté\n"
     ]
    }
   ],
   "source": [
    "print('Exports :')\n",
    "\n",
    "# EXPORT COMMUNES\n",
    "gdf.to_file('geo_api_com.geojson', driver='GeoJSON')\n",
    "print('geo_api_com.geojson exporté')\n",
    "\n",
    "# EXPORT EPCI\n",
    "gdf_epc.to_file('geo_api_epc.geojson', driver='GeoJSON')\n",
    "print('geo_api_epc.geojson exporté')\n",
    "\n",
    "# EXPORT DEPARTEMENTS\n",
    "gdf_dep.to_file('geo_api_dep.geojson', driver='GeoJSON')\n",
    "print('geo_api_dep.geojson exporté')\n",
    "\n",
    "# EXPORT REGION\n",
    "gdf_reg.to_file('geo_api_reg.geojson', driver='GeoJSON')\n",
    "print('geo_api_reg.geojson exporté')"
   ]
  }
 ],
 "metadata": {
  "kernelspec": {
   "display_name": "Python 3 (ipykernel)",
   "language": "python",
   "name": "python3"
  },
  "language_info": {
   "codemirror_mode": {
    "name": "ipython",
    "version": 3
   },
   "file_extension": ".py",
   "mimetype": "text/x-python",
   "name": "python",
   "nbconvert_exporter": "python",
   "pygments_lexer": "ipython3",
   "version": "3.10.9"
  }
 },
 "nbformat": 4,
 "nbformat_minor": 5
}
